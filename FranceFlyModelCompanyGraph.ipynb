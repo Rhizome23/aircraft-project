{
 "cells": [
  {
   "cell_type": "markdown",
   "metadata": {},
   "source": [
    "# Aircraft flying over France by airline and by model"
   ]
  },
  {
   "cell_type": "code",
   "execution_count": 1,
   "metadata": {},
   "outputs": [],
   "source": [
    "import pandas as pd\n",
    "from opensky_api import OpenSkyApi\n",
    "import requests\n",
    "import matplotlib.pyplot as plt\n",
    "%matplotlib inline"
   ]
  },
  {
   "cell_type": "markdown",
   "metadata": {},
   "source": [
    "#  Data \n",
    "## Airlines\n",
    "\n",
    "https://openflights.org/data.html"
   ]
  },
  {
   "cell_type": "code",
   "execution_count": 2,
   "metadata": {},
   "outputs": [
    {
     "data": {
      "text/html": [
       "<div>\n",
       "<style scoped>\n",
       "    .dataframe tbody tr th:only-of-type {\n",
       "        vertical-align: middle;\n",
       "    }\n",
       "\n",
       "    .dataframe tbody tr th {\n",
       "        vertical-align: top;\n",
       "    }\n",
       "\n",
       "    .dataframe thead th {\n",
       "        text-align: right;\n",
       "    }\n",
       "</style>\n",
       "<table border=\"1\" class=\"dataframe\">\n",
       "  <thead>\n",
       "    <tr style=\"text-align: right;\">\n",
       "      <th></th>\n",
       "      <th>id</th>\n",
       "      <th>name</th>\n",
       "      <th>alias</th>\n",
       "      <th>iata</th>\n",
       "      <th>icao</th>\n",
       "      <th>callsign</th>\n",
       "      <th>country</th>\n",
       "      <th>active</th>\n",
       "    </tr>\n",
       "  </thead>\n",
       "  <tbody>\n",
       "    <tr>\n",
       "      <th>0</th>\n",
       "      <td>-1</td>\n",
       "      <td>Unknown</td>\n",
       "      <td>\\N</td>\n",
       "      <td>-</td>\n",
       "      <td>NaN</td>\n",
       "      <td>\\N</td>\n",
       "      <td>\\N</td>\n",
       "      <td>Y</td>\n",
       "    </tr>\n",
       "    <tr>\n",
       "      <th>1</th>\n",
       "      <td>1</td>\n",
       "      <td>Private flight</td>\n",
       "      <td>\\N</td>\n",
       "      <td>-</td>\n",
       "      <td>NaN</td>\n",
       "      <td>NaN</td>\n",
       "      <td>NaN</td>\n",
       "      <td>Y</td>\n",
       "    </tr>\n",
       "    <tr>\n",
       "      <th>2</th>\n",
       "      <td>2</td>\n",
       "      <td>135 Airways</td>\n",
       "      <td>\\N</td>\n",
       "      <td>NaN</td>\n",
       "      <td>GNL</td>\n",
       "      <td>GENERAL</td>\n",
       "      <td>United States</td>\n",
       "      <td>N</td>\n",
       "    </tr>\n",
       "    <tr>\n",
       "      <th>3</th>\n",
       "      <td>3</td>\n",
       "      <td>1Time Airline</td>\n",
       "      <td>\\N</td>\n",
       "      <td>1T</td>\n",
       "      <td>RNX</td>\n",
       "      <td>NEXTIME</td>\n",
       "      <td>South Africa</td>\n",
       "      <td>Y</td>\n",
       "    </tr>\n",
       "    <tr>\n",
       "      <th>4</th>\n",
       "      <td>4</td>\n",
       "      <td>2 Sqn No 1 Elementary Flying Training School</td>\n",
       "      <td>\\N</td>\n",
       "      <td>NaN</td>\n",
       "      <td>WYT</td>\n",
       "      <td>NaN</td>\n",
       "      <td>United Kingdom</td>\n",
       "      <td>N</td>\n",
       "    </tr>\n",
       "  </tbody>\n",
       "</table>\n",
       "</div>"
      ],
      "text/plain": [
       "   id                                          name alias iata icao callsign  \\\n",
       "0  -1                                       Unknown    \\N    -  NaN       \\N   \n",
       "1   1                                Private flight    \\N    -  NaN      NaN   \n",
       "2   2                                   135 Airways    \\N  NaN  GNL  GENERAL   \n",
       "3   3                                 1Time Airline    \\N   1T  RNX  NEXTIME   \n",
       "4   4  2 Sqn No 1 Elementary Flying Training School    \\N  NaN  WYT      NaN   \n",
       "\n",
       "          country active  \n",
       "0              \\N      Y  \n",
       "1             NaN      Y  \n",
       "2   United States      N  \n",
       "3    South Africa      Y  \n",
       "4  United Kingdom      N  "
      ]
     },
     "execution_count": 2,
     "metadata": {},
     "output_type": "execute_result"
    }
   ],
   "source": [
    "df_airlines = pd.read_csv(\"data/airlines.dat\", names=['id','name','alias','iata','icao','callsign','country','active'])\n",
    "df_airlines.head()"
   ]
  },
  {
   "cell_type": "markdown",
   "metadata": {},
   "source": [
    "## Aircraft database\n",
    "https://opensky-network.org/datasets/metadata/\n",
    "Will give the model of the Aircrat"
   ]
  },
  {
   "cell_type": "code",
   "execution_count": 3,
   "metadata": {},
   "outputs": [
    {
     "data": {
      "text/html": [
       "<div>\n",
       "<style scoped>\n",
       "    .dataframe tbody tr th:only-of-type {\n",
       "        vertical-align: middle;\n",
       "    }\n",
       "\n",
       "    .dataframe tbody tr th {\n",
       "        vertical-align: top;\n",
       "    }\n",
       "\n",
       "    .dataframe thead th {\n",
       "        text-align: right;\n",
       "    }\n",
       "</style>\n",
       "<table border=\"1\" class=\"dataframe\">\n",
       "  <thead>\n",
       "    <tr style=\"text-align: right;\">\n",
       "      <th></th>\n",
       "      <th>icao24</th>\n",
       "      <th>registration</th>\n",
       "      <th>manufacturericao</th>\n",
       "      <th>manufacturername</th>\n",
       "      <th>model</th>\n",
       "      <th>typecode</th>\n",
       "      <th>serialnumber</th>\n",
       "      <th>linenumber</th>\n",
       "      <th>icaoaircrafttype</th>\n",
       "      <th>operator</th>\n",
       "      <th>...</th>\n",
       "      <th>status</th>\n",
       "      <th>built</th>\n",
       "      <th>firstflightdate</th>\n",
       "      <th>seatconfiguration</th>\n",
       "      <th>engines</th>\n",
       "      <th>modes</th>\n",
       "      <th>adsb</th>\n",
       "      <th>acars</th>\n",
       "      <th>notes</th>\n",
       "      <th>categoryDescription</th>\n",
       "    </tr>\n",
       "  </thead>\n",
       "  <tbody>\n",
       "    <tr>\n",
       "      <th>0</th>\n",
       "      <td>NaN</td>\n",
       "      <td>NaN</td>\n",
       "      <td>NaN</td>\n",
       "      <td>NaN</td>\n",
       "      <td>NaN</td>\n",
       "      <td>NaN</td>\n",
       "      <td>NaN</td>\n",
       "      <td>NaN</td>\n",
       "      <td>NaN</td>\n",
       "      <td>NaN</td>\n",
       "      <td>...</td>\n",
       "      <td>NaN</td>\n",
       "      <td>NaN</td>\n",
       "      <td>NaN</td>\n",
       "      <td>NaN</td>\n",
       "      <td>NaN</td>\n",
       "      <td>False</td>\n",
       "      <td>False</td>\n",
       "      <td>False</td>\n",
       "      <td>NaN</td>\n",
       "      <td>NaN</td>\n",
       "    </tr>\n",
       "    <tr>\n",
       "      <th>1</th>\n",
       "      <td>aa3487</td>\n",
       "      <td>N757F</td>\n",
       "      <td>NaN</td>\n",
       "      <td>Raytheon Aircraft Company</td>\n",
       "      <td>A36</td>\n",
       "      <td>NaN</td>\n",
       "      <td>E-3121</td>\n",
       "      <td>NaN</td>\n",
       "      <td>NaN</td>\n",
       "      <td>NaN</td>\n",
       "      <td>...</td>\n",
       "      <td>NaN</td>\n",
       "      <td>NaN</td>\n",
       "      <td>NaN</td>\n",
       "      <td>NaN</td>\n",
       "      <td>NaN</td>\n",
       "      <td>False</td>\n",
       "      <td>False</td>\n",
       "      <td>False</td>\n",
       "      <td>NaN</td>\n",
       "      <td>NaN</td>\n",
       "    </tr>\n",
       "    <tr>\n",
       "      <th>2</th>\n",
       "      <td>ae267b</td>\n",
       "      <td>6533</td>\n",
       "      <td>VOUGHT</td>\n",
       "      <td>Aerospatiale</td>\n",
       "      <td>MH-65C Dolphin</td>\n",
       "      <td>AS65</td>\n",
       "      <td>6182</td>\n",
       "      <td>NaN</td>\n",
       "      <td>H2T</td>\n",
       "      <td>NaN</td>\n",
       "      <td>...</td>\n",
       "      <td>NaN</td>\n",
       "      <td>NaN</td>\n",
       "      <td>NaN</td>\n",
       "      <td>NaN</td>\n",
       "      <td>NaN</td>\n",
       "      <td>False</td>\n",
       "      <td>False</td>\n",
       "      <td>False</td>\n",
       "      <td>NaN</td>\n",
       "      <td>No ADS-B Emitter Category Information</td>\n",
       "    </tr>\n",
       "    <tr>\n",
       "      <th>3</th>\n",
       "      <td>a4fa61</td>\n",
       "      <td>N42MH</td>\n",
       "      <td>NaN</td>\n",
       "      <td>Piper</td>\n",
       "      <td>PA-31-350</td>\n",
       "      <td>NaN</td>\n",
       "      <td>31-7852015</td>\n",
       "      <td>NaN</td>\n",
       "      <td>NaN</td>\n",
       "      <td>NaN</td>\n",
       "      <td>...</td>\n",
       "      <td>NaN</td>\n",
       "      <td>1977-01-01</td>\n",
       "      <td>NaN</td>\n",
       "      <td>NaN</td>\n",
       "      <td>LYCOMING TI0-540 SER</td>\n",
       "      <td>False</td>\n",
       "      <td>False</td>\n",
       "      <td>False</td>\n",
       "      <td>NaN</td>\n",
       "      <td>NaN</td>\n",
       "    </tr>\n",
       "    <tr>\n",
       "      <th>4</th>\n",
       "      <td>c04101</td>\n",
       "      <td>C-FYQA</td>\n",
       "      <td>NaN</td>\n",
       "      <td>Champion Aircraft Corporation</td>\n",
       "      <td>7GCA (Champion)</td>\n",
       "      <td>NaN</td>\n",
       "      <td>420</td>\n",
       "      <td>NaN</td>\n",
       "      <td>NaN</td>\n",
       "      <td>NaN</td>\n",
       "      <td>...</td>\n",
       "      <td>NaN</td>\n",
       "      <td>NaN</td>\n",
       "      <td>NaN</td>\n",
       "      <td>NaN</td>\n",
       "      <td>NaN</td>\n",
       "      <td>False</td>\n",
       "      <td>False</td>\n",
       "      <td>False</td>\n",
       "      <td>NaN</td>\n",
       "      <td>NaN</td>\n",
       "    </tr>\n",
       "  </tbody>\n",
       "</table>\n",
       "<p>5 rows × 27 columns</p>\n",
       "</div>"
      ],
      "text/plain": [
       "   icao24 registration manufacturericao               manufacturername  \\\n",
       "0     NaN          NaN              NaN                            NaN   \n",
       "1  aa3487        N757F              NaN      Raytheon Aircraft Company   \n",
       "2  ae267b         6533           VOUGHT                   Aerospatiale   \n",
       "3  a4fa61        N42MH              NaN                          Piper   \n",
       "4  c04101       C-FYQA              NaN  Champion Aircraft Corporation   \n",
       "\n",
       "             model typecode serialnumber linenumber icaoaircrafttype operator  \\\n",
       "0              NaN      NaN          NaN        NaN              NaN      NaN   \n",
       "1              A36      NaN       E-3121        NaN              NaN      NaN   \n",
       "2   MH-65C Dolphin     AS65         6182        NaN              H2T      NaN   \n",
       "3        PA-31-350      NaN   31-7852015        NaN              NaN      NaN   \n",
       "4  7GCA (Champion)      NaN          420        NaN              NaN      NaN   \n",
       "\n",
       "   ... status       built firstflightdate seatconfiguration  \\\n",
       "0  ...    NaN         NaN             NaN               NaN   \n",
       "1  ...    NaN         NaN             NaN               NaN   \n",
       "2  ...    NaN         NaN             NaN               NaN   \n",
       "3  ...    NaN  1977-01-01             NaN               NaN   \n",
       "4  ...    NaN         NaN             NaN               NaN   \n",
       "\n",
       "                engines  modes   adsb  acars notes  \\\n",
       "0                   NaN  False  False  False   NaN   \n",
       "1                   NaN  False  False  False   NaN   \n",
       "2                   NaN  False  False  False   NaN   \n",
       "3  LYCOMING TI0-540 SER  False  False  False   NaN   \n",
       "4                   NaN  False  False  False   NaN   \n",
       "\n",
       "                     categoryDescription  \n",
       "0                                    NaN  \n",
       "1                                    NaN  \n",
       "2  No ADS-B Emitter Category Information  \n",
       "3                                    NaN  \n",
       "4                                    NaN  \n",
       "\n",
       "[5 rows x 27 columns]"
      ]
     },
     "execution_count": 3,
     "metadata": {},
     "output_type": "execute_result"
    }
   ],
   "source": [
    "df_aircraft = pd.read_csv(\"data/aircraftDatabase.csv\", low_memory=False)\n",
    "df_aircraft.head()"
   ]
  },
  {
   "cell_type": "markdown",
   "metadata": {},
   "source": [
    "# Flights now bbox France"
   ]
  },
  {
   "cell_type": "code",
   "execution_count": 4,
   "metadata": {},
   "outputs": [
    {
     "name": "stdout",
     "output_type": "stream",
     "text": [
      "16/04/2019 21:16\n"
     ]
    }
   ],
   "source": [
    "#bboxFrance= [min_latitude, max_latitude, min_longitude, max_latitude]\n",
    "bboxFrance= [41, 52, -5.5, 10]\n",
    "\n",
    "import time\n",
    "from datetime import datetime, timedelta\n",
    "t = int(time.time())\n",
    "print(datetime.fromtimestamp(t).strftime(\"%d/%m/%Y %H:%M\"))"
   ]
  },
  {
   "cell_type": "code",
   "execution_count": 5,
   "metadata": {},
   "outputs": [
    {
     "name": "stdout",
     "output_type": "stream",
     "text": [
      "[('4b1805', 'SWR109H '), ('4b1806', 'SWR37G  '), ('4b1807', 'SWR646  '), ('4b1801', 'SWR1665 '), ('4952c2', 'TAP566W ')]\n",
      "Aircrafts actually on France : 709\n"
     ]
    }
   ],
   "source": [
    "#  fly data\n",
    "# states values :'icao24','callsign','origin_country','time_position','last_contact','longitude','latitude',\n",
    "#'geo_altidude','on_ground','velocity','heading','vertical_rate','sensors','baro_altitude',\n",
    "# 'squawk','spi','position_source'\n",
    "datafull =[]\n",
    "api = OpenSkyApi()\n",
    "states = api.get_states(time_secs= t, bbox=bboxFrance)\n",
    "for s in states.states:\n",
    "    #print(\"(%r, %r, %r, %r)\" % (s.longitude, s.latitude, s.velocity, s.callsign))\n",
    "    if s.latitude != None and s.longitude != None and s.on_ground != True:\n",
    "       #data.append(( s.callsign, float(s.longitude), float(s.latitude) ))\n",
    "        datafull.append((s.icao24,s.callsign))\n",
    "    else :\n",
    "        pass\n",
    "print(datafull[0:5]) \n",
    "print(\"Aircrafts actually on France : \" +str(len(datafull)))"
   ]
  },
  {
   "cell_type": "code",
   "execution_count": 6,
   "metadata": {},
   "outputs": [
    {
     "data": {
      "text/html": [
       "<div>\n",
       "<style scoped>\n",
       "    .dataframe tbody tr th:only-of-type {\n",
       "        vertical-align: middle;\n",
       "    }\n",
       "\n",
       "    .dataframe tbody tr th {\n",
       "        vertical-align: top;\n",
       "    }\n",
       "\n",
       "    .dataframe thead th {\n",
       "        text-align: right;\n",
       "    }\n",
       "</style>\n",
       "<table border=\"1\" class=\"dataframe\">\n",
       "  <thead>\n",
       "    <tr style=\"text-align: right;\">\n",
       "      <th></th>\n",
       "      <th>icao24</th>\n",
       "      <th>callsign</th>\n",
       "      <th>aircraft_model</th>\n",
       "      <th>airlines_icao</th>\n",
       "      <th>airlines_name</th>\n",
       "      <th>airlines_country</th>\n",
       "    </tr>\n",
       "  </thead>\n",
       "  <tbody>\n",
       "    <tr>\n",
       "      <th>0</th>\n",
       "      <td>4b1805</td>\n",
       "      <td>SWR109H</td>\n",
       "      <td>4b1805</td>\n",
       "      <td>SWR</td>\n",
       "      <td>SWR</td>\n",
       "      <td>SWR</td>\n",
       "    </tr>\n",
       "    <tr>\n",
       "      <th>1</th>\n",
       "      <td>4b1806</td>\n",
       "      <td>SWR37G</td>\n",
       "      <td>4b1806</td>\n",
       "      <td>SWR</td>\n",
       "      <td>SWR</td>\n",
       "      <td>SWR</td>\n",
       "    </tr>\n",
       "    <tr>\n",
       "      <th>2</th>\n",
       "      <td>4b1807</td>\n",
       "      <td>SWR646</td>\n",
       "      <td>4b1807</td>\n",
       "      <td>SWR</td>\n",
       "      <td>SWR</td>\n",
       "      <td>SWR</td>\n",
       "    </tr>\n",
       "    <tr>\n",
       "      <th>3</th>\n",
       "      <td>4b1801</td>\n",
       "      <td>SWR1665</td>\n",
       "      <td>4b1801</td>\n",
       "      <td>SWR</td>\n",
       "      <td>SWR</td>\n",
       "      <td>SWR</td>\n",
       "    </tr>\n",
       "    <tr>\n",
       "      <th>4</th>\n",
       "      <td>4952c2</td>\n",
       "      <td>TAP566W</td>\n",
       "      <td>4952c2</td>\n",
       "      <td>TAP</td>\n",
       "      <td>TAP</td>\n",
       "      <td>TAP</td>\n",
       "    </tr>\n",
       "  </tbody>\n",
       "</table>\n",
       "</div>"
      ],
      "text/plain": [
       "   icao24  callsign aircraft_model airlines_icao airlines_name  \\\n",
       "0  4b1805  SWR109H          4b1805           SWR           SWR   \n",
       "1  4b1806  SWR37G           4b1806           SWR           SWR   \n",
       "2  4b1807  SWR646           4b1807           SWR           SWR   \n",
       "3  4b1801  SWR1665          4b1801           SWR           SWR   \n",
       "4  4952c2  TAP566W          4952c2           TAP           TAP   \n",
       "\n",
       "  airlines_country  \n",
       "0              SWR  \n",
       "1              SWR  \n",
       "2              SWR  \n",
       "3              SWR  \n",
       "4              TAP  "
      ]
     },
     "execution_count": 6,
     "metadata": {},
     "output_type": "execute_result"
    }
   ],
   "source": [
    "df = pd.DataFrame(datafull,columns =['icao24','callsign'])\n",
    "df['aircraft_model'] = df['icao24']\n",
    "df['airlines_icao'] = df['callsign'].apply(lambda x: x[0:3])\n",
    "df['airlines_name'] = df['airlines_icao']\n",
    "df['airlines_country'] = df['airlines_icao']\n",
    "df.head()"
   ]
  },
  {
   "cell_type": "code",
   "execution_count": 7,
   "metadata": {},
   "outputs": [],
   "source": [
    "a = df_aircraft.set_index('icao24')['typecode']\n",
    "df[\"aircraft_model\"] = df[\"aircraft_model\"].replace(a)"
   ]
  },
  {
   "cell_type": "code",
   "execution_count": 8,
   "metadata": {},
   "outputs": [
    {
     "data": {
      "text/html": [
       "<div>\n",
       "<style scoped>\n",
       "    .dataframe tbody tr th:only-of-type {\n",
       "        vertical-align: middle;\n",
       "    }\n",
       "\n",
       "    .dataframe tbody tr th {\n",
       "        vertical-align: top;\n",
       "    }\n",
       "\n",
       "    .dataframe thead th {\n",
       "        text-align: right;\n",
       "    }\n",
       "</style>\n",
       "<table border=\"1\" class=\"dataframe\">\n",
       "  <thead>\n",
       "    <tr style=\"text-align: right;\">\n",
       "      <th></th>\n",
       "      <th>icao24</th>\n",
       "      <th>callsign</th>\n",
       "      <th>aircraft_model</th>\n",
       "      <th>airlines_icao</th>\n",
       "      <th>airlines_name</th>\n",
       "      <th>airlines_country</th>\n",
       "    </tr>\n",
       "  </thead>\n",
       "  <tbody>\n",
       "    <tr>\n",
       "      <th>0</th>\n",
       "      <td>4b1805</td>\n",
       "      <td>SWR109H</td>\n",
       "      <td>NaN</td>\n",
       "      <td>SWR</td>\n",
       "      <td>SWR</td>\n",
       "      <td>SWR</td>\n",
       "    </tr>\n",
       "    <tr>\n",
       "      <th>1</th>\n",
       "      <td>4b1806</td>\n",
       "      <td>SWR37G</td>\n",
       "      <td>NaN</td>\n",
       "      <td>SWR</td>\n",
       "      <td>SWR</td>\n",
       "      <td>SWR</td>\n",
       "    </tr>\n",
       "    <tr>\n",
       "      <th>2</th>\n",
       "      <td>4b1807</td>\n",
       "      <td>SWR646</td>\n",
       "      <td>NaN</td>\n",
       "      <td>SWR</td>\n",
       "      <td>SWR</td>\n",
       "      <td>SWR</td>\n",
       "    </tr>\n",
       "    <tr>\n",
       "      <th>3</th>\n",
       "      <td>4b1801</td>\n",
       "      <td>SWR1665</td>\n",
       "      <td>NaN</td>\n",
       "      <td>SWR</td>\n",
       "      <td>SWR</td>\n",
       "      <td>SWR</td>\n",
       "    </tr>\n",
       "    <tr>\n",
       "      <th>4</th>\n",
       "      <td>4952c2</td>\n",
       "      <td>TAP566W</td>\n",
       "      <td>4952c2</td>\n",
       "      <td>TAP</td>\n",
       "      <td>TAP</td>\n",
       "      <td>TAP</td>\n",
       "    </tr>\n",
       "  </tbody>\n",
       "</table>\n",
       "</div>"
      ],
      "text/plain": [
       "   icao24  callsign aircraft_model airlines_icao airlines_name  \\\n",
       "0  4b1805  SWR109H             NaN           SWR           SWR   \n",
       "1  4b1806  SWR37G              NaN           SWR           SWR   \n",
       "2  4b1807  SWR646              NaN           SWR           SWR   \n",
       "3  4b1801  SWR1665             NaN           SWR           SWR   \n",
       "4  4952c2  TAP566W          4952c2           TAP           TAP   \n",
       "\n",
       "  airlines_country  \n",
       "0              SWR  \n",
       "1              SWR  \n",
       "2              SWR  \n",
       "3              SWR  \n",
       "4              TAP  "
      ]
     },
     "execution_count": 8,
     "metadata": {},
     "output_type": "execute_result"
    }
   ],
   "source": [
    "df.head()"
   ]
  },
  {
   "cell_type": "code",
   "execution_count": 9,
   "metadata": {},
   "outputs": [],
   "source": [
    "a = df_airlines.set_index('icao')['name']\n",
    "df[\"airlines_name\"] = df[\"airlines_name\"].replace(a)"
   ]
  },
  {
   "cell_type": "code",
   "execution_count": 10,
   "metadata": {},
   "outputs": [],
   "source": [
    "a = df_airlines.set_index('icao')['country']\n",
    "df[\"airlines_country\"] = df[\"airlines_country\"].replace(a)"
   ]
  },
  {
   "cell_type": "code",
   "execution_count": 11,
   "metadata": {},
   "outputs": [
    {
     "data": {
      "text/html": [
       "<div>\n",
       "<style scoped>\n",
       "    .dataframe tbody tr th:only-of-type {\n",
       "        vertical-align: middle;\n",
       "    }\n",
       "\n",
       "    .dataframe tbody tr th {\n",
       "        vertical-align: top;\n",
       "    }\n",
       "\n",
       "    .dataframe thead th {\n",
       "        text-align: right;\n",
       "    }\n",
       "</style>\n",
       "<table border=\"1\" class=\"dataframe\">\n",
       "  <thead>\n",
       "    <tr style=\"text-align: right;\">\n",
       "      <th></th>\n",
       "      <th>icao24</th>\n",
       "      <th>callsign</th>\n",
       "      <th>aircraft_model</th>\n",
       "      <th>airlines_icao</th>\n",
       "      <th>airlines_name</th>\n",
       "      <th>airlines_country</th>\n",
       "    </tr>\n",
       "  </thead>\n",
       "  <tbody>\n",
       "    <tr>\n",
       "      <th>0</th>\n",
       "      <td>4b1805</td>\n",
       "      <td>SWR109H</td>\n",
       "      <td>NaN</td>\n",
       "      <td>SWR</td>\n",
       "      <td>Swissair</td>\n",
       "      <td>Switzerland</td>\n",
       "    </tr>\n",
       "    <tr>\n",
       "      <th>1</th>\n",
       "      <td>4b1806</td>\n",
       "      <td>SWR37G</td>\n",
       "      <td>NaN</td>\n",
       "      <td>SWR</td>\n",
       "      <td>Swissair</td>\n",
       "      <td>Switzerland</td>\n",
       "    </tr>\n",
       "    <tr>\n",
       "      <th>2</th>\n",
       "      <td>4b1807</td>\n",
       "      <td>SWR646</td>\n",
       "      <td>NaN</td>\n",
       "      <td>SWR</td>\n",
       "      <td>Swissair</td>\n",
       "      <td>Switzerland</td>\n",
       "    </tr>\n",
       "    <tr>\n",
       "      <th>3</th>\n",
       "      <td>4b1801</td>\n",
       "      <td>SWR1665</td>\n",
       "      <td>NaN</td>\n",
       "      <td>SWR</td>\n",
       "      <td>Swissair</td>\n",
       "      <td>Switzerland</td>\n",
       "    </tr>\n",
       "    <tr>\n",
       "      <th>4</th>\n",
       "      <td>4952c2</td>\n",
       "      <td>TAP566W</td>\n",
       "      <td>4952c2</td>\n",
       "      <td>TAP</td>\n",
       "      <td>TAP Portugal</td>\n",
       "      <td>Portugal</td>\n",
       "    </tr>\n",
       "  </tbody>\n",
       "</table>\n",
       "</div>"
      ],
      "text/plain": [
       "   icao24  callsign aircraft_model airlines_icao airlines_name  \\\n",
       "0  4b1805  SWR109H             NaN           SWR      Swissair   \n",
       "1  4b1806  SWR37G              NaN           SWR      Swissair   \n",
       "2  4b1807  SWR646              NaN           SWR      Swissair   \n",
       "3  4b1801  SWR1665             NaN           SWR      Swissair   \n",
       "4  4952c2  TAP566W          4952c2           TAP  TAP Portugal   \n",
       "\n",
       "  airlines_country  \n",
       "0      Switzerland  \n",
       "1      Switzerland  \n",
       "2      Switzerland  \n",
       "3      Switzerland  \n",
       "4         Portugal  "
      ]
     },
     "execution_count": 11,
     "metadata": {},
     "output_type": "execute_result"
    }
   ],
   "source": [
    "df.head()"
   ]
  },
  {
   "cell_type": "markdown",
   "metadata": {},
   "source": [
    "## By Airlines"
   ]
  },
  {
   "cell_type": "code",
   "execution_count": 12,
   "metadata": {},
   "outputs": [],
   "source": [
    "by_airlines = df.groupby('airlines_name')['callsign'].nunique()"
   ]
  },
  {
   "cell_type": "code",
   "execution_count": 13,
   "metadata": {},
   "outputs": [
    {
     "name": "stdout",
     "output_type": "stream",
     "text": [
      "airlines_name\n",
      "Ryanair            94\n",
      "Air France         42\n",
      "easyJet            40\n",
      "EJU                37\n",
      "British Airways    34\n",
      "Name: callsign, dtype: int64\n"
     ]
    }
   ],
   "source": [
    "result = by_airlines[by_airlines > 10].sort_values(ascending = False)\n",
    "print(result.head())"
   ]
  },
  {
   "cell_type": "code",
   "execution_count": 14,
   "metadata": {},
   "outputs": [
    {
     "data": {
      "text/plain": [
       "<matplotlib.axes._subplots.AxesSubplot at 0x7fed038b9358>"
      ]
     },
     "execution_count": 14,
     "metadata": {},
     "output_type": "execute_result"
    },
    {
     "data": {
      "image/png": "[encoded data removed]",
      "text/plain": [
       "<Figure size 576x576 with 1 Axes>"
      ]
     },
     "metadata": {},
     "output_type": "display_data"
    }
   ],
   "source": [
    "result.plot.pie(figsize=(8, 8))"
   ]
  },
  {
   "cell_type": "markdown",
   "metadata": {},
   "source": [
    "## By Airlines country"
   ]
  },
  {
   "cell_type": "code",
   "execution_count": 15,
   "metadata": {},
   "outputs": [],
   "source": [
    "by_country = df.groupby('airlines_country')['callsign'].nunique()"
   ]
  },
  {
   "cell_type": "code",
   "execution_count": 16,
   "metadata": {},
   "outputs": [
    {
     "name": "stdout",
     "output_type": "stream",
     "text": [
      "airlines_country\n",
      "United Kingdom    101\n",
      "Ireland           101\n",
      "Germany            64\n",
      "France             55\n",
      "Spain              54\n",
      "Name: callsign, dtype: int64\n"
     ]
    }
   ],
   "source": [
    "result_country = by_country[by_country > 10].sort_values(ascending = False)\n",
    "print(result_country.head())"
   ]
  },
  {
   "cell_type": "code",
   "execution_count": 17,
   "metadata": {},
   "outputs": [
    {
     "data": {
      "text/plain": [
       "<matplotlib.axes._subplots.AxesSubplot at 0x7fed00a87c18>"
      ]
     },
     "execution_count": 17,
     "metadata": {},
     "output_type": "execute_result"
    },
    {
     "data": {
      "image/png": "[encoded data removed]",
      "text/plain": [
       "<Figure size 576x576 with 1 Axes>"
      ]
     },
     "metadata": {},
     "output_type": "display_data"
    }
   ],
   "source": [
    "result_country.plot.pie(figsize=(8, 8))"
   ]
  },
  {
   "cell_type": "markdown",
   "metadata": {},
   "source": [
    "## By Aircraft model"
   ]
  },
  {
   "cell_type": "code",
   "execution_count": 18,
   "metadata": {},
   "outputs": [
    {
     "data": {
      "text/html": [
       "<div>\n",
       "<style scoped>\n",
       "    .dataframe tbody tr th:only-of-type {\n",
       "        vertical-align: middle;\n",
       "    }\n",
       "\n",
       "    .dataframe tbody tr th {\n",
       "        vertical-align: top;\n",
       "    }\n",
       "\n",
       "    .dataframe thead th {\n",
       "        text-align: right;\n",
       "    }\n",
       "</style>\n",
       "<table border=\"1\" class=\"dataframe\">\n",
       "  <thead>\n",
       "    <tr style=\"text-align: right;\">\n",
       "      <th></th>\n",
       "      <th>icao24</th>\n",
       "      <th>callsign</th>\n",
       "      <th>aircraft_model</th>\n",
       "      <th>airlines_icao</th>\n",
       "      <th>airlines_name</th>\n",
       "      <th>airlines_country</th>\n",
       "    </tr>\n",
       "  </thead>\n",
       "  <tbody>\n",
       "    <tr>\n",
       "      <th>0</th>\n",
       "      <td>4b1805</td>\n",
       "      <td>SWR109H</td>\n",
       "      <td>nan</td>\n",
       "      <td>SWR</td>\n",
       "      <td>Swissair</td>\n",
       "      <td>Switzerland</td>\n",
       "    </tr>\n",
       "    <tr>\n",
       "      <th>1</th>\n",
       "      <td>4b1806</td>\n",
       "      <td>SWR37G</td>\n",
       "      <td>nan</td>\n",
       "      <td>SWR</td>\n",
       "      <td>Swissair</td>\n",
       "      <td>Switzerland</td>\n",
       "    </tr>\n",
       "    <tr>\n",
       "      <th>2</th>\n",
       "      <td>4b1807</td>\n",
       "      <td>SWR646</td>\n",
       "      <td>nan</td>\n",
       "      <td>SWR</td>\n",
       "      <td>Swissair</td>\n",
       "      <td>Switzerland</td>\n",
       "    </tr>\n",
       "    <tr>\n",
       "      <th>3</th>\n",
       "      <td>4b1801</td>\n",
       "      <td>SWR1665</td>\n",
       "      <td>nan</td>\n",
       "      <td>SWR</td>\n",
       "      <td>Swissair</td>\n",
       "      <td>Switzerland</td>\n",
       "    </tr>\n",
       "    <tr>\n",
       "      <th>4</th>\n",
       "      <td>4952c2</td>\n",
       "      <td>TAP566W</td>\n",
       "      <td>4952c2</td>\n",
       "      <td>TAP</td>\n",
       "      <td>TAP Portugal</td>\n",
       "      <td>Portugal</td>\n",
       "    </tr>\n",
       "  </tbody>\n",
       "</table>\n",
       "</div>"
      ],
      "text/plain": [
       "   icao24  callsign aircraft_model airlines_icao airlines_name  \\\n",
       "0  4b1805  SWR109H             nan           SWR      Swissair   \n",
       "1  4b1806  SWR37G              nan           SWR      Swissair   \n",
       "2  4b1807  SWR646              nan           SWR      Swissair   \n",
       "3  4b1801  SWR1665             nan           SWR      Swissair   \n",
       "4  4952c2  TAP566W          4952c2           TAP  TAP Portugal   \n",
       "\n",
       "  airlines_country  \n",
       "0      Switzerland  \n",
       "1      Switzerland  \n",
       "2      Switzerland  \n",
       "3      Switzerland  \n",
       "4         Portugal  "
      ]
     },
     "execution_count": 18,
     "metadata": {},
     "output_type": "execute_result"
    }
   ],
   "source": [
    "df['aircraft_model']= df['aircraft_model'].astype(str)\n",
    "#df['aircraft_model'] = df['aircraft_model'].apply(lambda x: x[0:-4])\n",
    "df.head()"
   ]
  },
  {
   "cell_type": "code",
   "execution_count": 19,
   "metadata": {},
   "outputs": [],
   "source": [
    "by_model = df.groupby('aircraft_model')['callsign'].nunique()"
   ]
  },
  {
   "cell_type": "code",
   "execution_count": 20,
   "metadata": {},
   "outputs": [
    {
     "name": "stdout",
     "output_type": "stream",
     "text": [
      "aircraft_model\n",
      "B738    162\n",
      "A320    145\n",
      "A319     98\n",
      "nan      53\n",
      "A321     43\n",
      "Name: callsign, dtype: int64\n"
     ]
    }
   ],
   "source": [
    "result_model = by_model[by_model > 3].sort_values(ascending = False)\n",
    "print(result_model.head())"
   ]
  },
  {
   "cell_type": "code",
   "execution_count": 21,
   "metadata": {},
   "outputs": [
    {
     "data": {
      "text/plain": [
       "<matplotlib.axes._subplots.AxesSubplot at 0x7fed007f8780>"
      ]
     },
     "execution_count": 21,
     "metadata": {},
     "output_type": "execute_result"
    },
    {
     "data": {
      "image/png": "[encoded data removed]",
      "text/plain": [
       "<Figure size 576x576 with 1 Axes>"
      ]
     },
     "metadata": {},
     "output_type": "display_data"
    }
   ],
   "source": [
    "result_model.plot.pie(figsize=(8, 8),autopct='%1.1f%%')"
   ]
  },
  {
   "cell_type": "code",
   "execution_count": null,
   "metadata": {},
   "outputs": [],
   "source": []
  }
 ],
 "metadata": {
  "kernelspec": {
   "display_name": "Python 3",
   "language": "python",
   "name": "python3"
  },
  "language_info": {
   "codemirror_mode": {
    "name": "ipython",
    "version": 3
   },
   "file_extension": ".py",
   "mimetype": "text/x-python",
   "name": "python",
   "nbconvert_exporter": "python",
   "pygments_lexer": "ipython3",
   "version": "3.6.7"
  },
  "toc": {
   "base_numbering": 1,
   "nav_menu": {},
   "number_sections": true,
   "sideBar": true,
   "skip_h1_title": false,
   "title_cell": "Table of Contents",
   "title_sidebar": "Contents",
   "toc_cell": false,
   "toc_position": {},
   "toc_section_display": true,
   "toc_window_display": false
  }
 },
 "nbformat": 4,
 "nbformat_minor": 2
}
